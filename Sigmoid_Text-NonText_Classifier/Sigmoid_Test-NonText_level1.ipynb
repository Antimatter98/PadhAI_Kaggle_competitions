{
  "cells": [
    {
      "metadata": {
        "id": "a192xmwKijHs",
        "colab_type": "code",
        "colab": {},
        "trusted": true,
        "_uuid": "9f9e76df90052a134ab0bdc72b9c2c789d280815"
      },
      "cell_type": "code",
      "source": "import os\nimport sys\nimport pickle\nimport numpy as np\nimport pandas as pd\nfrom PIL import Image, ImageFilter\nfrom tqdm import tqdm_notebook\nfrom sklearn.preprocessing import StandardScaler\nfrom sklearn.metrics import accuracy_score, mean_squared_error, log_loss, confusion_matrix\nimport matplotlib.pyplot as plt\n\nnp.random.seed(100)\nLEVEL = 'level_1'",
      "execution_count": null,
      "outputs": []
    },
    {
      "metadata": {
        "trusted": true,
        "_uuid": "57a6c955f274862be33928b02c28bddb982cff17"
      },
      "cell_type": "code",
      "source": "import warnings\nwarnings.filterwarnings('ignore')",
      "execution_count": null,
      "outputs": []
    },
    {
      "metadata": {
        "id": "fIuRdSezijHx",
        "colab_type": "code",
        "colab": {},
        "trusted": true,
        "_uuid": "709ba9d04461d960918e7e6f2e3b1fcfb8abe3f7"
      },
      "cell_type": "code",
      "source": "class SigmoidNeuron:\n  \n    def __init__(self):\n        self.w = None\n        self.b = None\n    \n    def perceptron(self, x):\n        return np.dot(x, self.w.T) + self.b\n  \n    def sigmoid(self, x):\n        return 1.0/(1.0 + np.exp(-x))\n  \n    def grad_w_mse(self, x, y):\n        y_pred = self.sigmoid(self.perceptron(x))\n        return (y_pred - y) * y_pred * (1 - y_pred) * x\n  \n    def grad_b_mse(self, x, y):\n        y_pred = self.sigmoid(self.perceptron(x))\n        return (y_pred - y) * y_pred * (1 - y_pred)\n  \n    def grad_w_ce(self, x, y):\n        y_pred = self.sigmoid(self.perceptron(x))\n        if y == 0:\n            return y_pred * x\n        elif y == 1:\n            return -1 * (1 - y_pred) * x\n        else:\n            raise ValueError(\"y should be 0 or 1\")\n    \n    def grad_b_ce(self, x, y):\n        y_pred = self.sigmoid(self.perceptron(x))\n        if y == 0:\n            return y_pred \n        elif y == 1:\n            return -1 * (1 - y_pred)\n        else:\n            raise ValueError(\"y should be 0 or 1\")\n  \n    def fit(self, X, Y, epochs=1, learning_rate=1, initialise=True, loss_fn=\"mse\", display_loss=False):\n        # initialise w, b\n        if initialise:\n            self.w = np.random.randn(1, X.shape[1])\n            self.b = 0\n      \n        if display_loss:\n            loss = {}\n    \n        for i in tqdm_notebook(range(epochs), total=epochs, unit=\"epoch\"):\n            dw = 0\n            db = 0\n            for x, y in zip(X, Y):\n                if loss_fn == \"mse\":\n                    dw += self.grad_w_mse(x, y)\n                    db += self.grad_b_mse(x, y) \n                elif loss_fn == \"ce\":\n                    dw += self.grad_w_ce(x, y)\n                    db += self.grad_b_ce(x, y)\n            self.w -= learning_rate * dw\n            self.b -= learning_rate * db\n      \n            if display_loss:\n                Y_pred = self.sigmoid(self.perceptron(X))\n            if loss_fn == \"mse\":\n                loss[i] = mean_squared_error(Y, Y_pred)\n            elif loss_fn == \"ce\":\n                loss[i] = log_loss(Y, Y_pred)\n    \n        if display_loss:\n            plt.plot(loss.values())\n            plt.xlabel('Epochs')\n        if loss_fn == \"mse\":\n            plt.ylabel('Mean Squared Error')\n        elif loss_fn == \"ce\":\n            plt.ylabel('Log Loss')\n            plt.show()\n      \n    def predict(self, X):\n        Y_pred = []\n        for x in X:\n            y_pred = self.sigmoid(self.perceptron(x))\n            Y_pred.append(y_pred)\n        return np.array(Y_pred)",
      "execution_count": null,
      "outputs": []
    },
    {
      "metadata": {
        "id": "VDe2wjl_ijH0",
        "colab_type": "code",
        "colab": {},
        "trusted": true,
        "_uuid": "064ab6b9fb839c56808eacf4acc905be3b06c1dd"
      },
      "cell_type": "code",
      "source": "def read_all(folder_path, key_prefix=\"\"):\n    '''\n    It returns a dictionary with 'file names' as keys and 'flattened image arrays' as values.\n    '''\n    print(\"Reading:\")\n    images = {}\n    files = os.listdir(folder_path)\n    for i, file_name in tqdm_notebook(enumerate(files), total=len(files)):\n        file_path = os.path.join(folder_path, file_name)\n        image_index = key_prefix + file_name[:-4]\n        image = Image.open(file_path)\n        image = image.convert(\"L\")\n        images[image_index] = np.array(image.copy()).flatten()\n        image.close()\n    return images",
      "execution_count": null,
      "outputs": []
    },
    {
      "metadata": {
        "id": "mjuaN532ijH4",
        "colab_type": "code",
        "colab": {},
        "outputId": "4124ae5e-4a9c-44dc-8c84-7919e6927fe5",
        "trusted": true,
        "_uuid": "1652a356298bb9e264b1e8710721b741b66a4b26"
      },
      "cell_type": "code",
      "source": "languages = ['ta', 'hi', 'en']\n\nimages_train = read_all(\"../input/level_1_train/\"+LEVEL+\"/\"+\"background\", key_prefix='bgr_')  # change the path\n\nfor language in languages:\n    images_train.update(read_all(\"../input/level_1_train/\"+LEVEL+\"/\"+language, key_prefix=language+\"_\" ))\n  #print(\"images_train\",images_train,\"language\",language)\nprint(len(images_train))\n\n\nimages_test = read_all(\"../input/level_1_test/kaggle_\"+LEVEL, key_prefix='') # change the path\nprint(len(images_test))",
      "execution_count": null,
      "outputs": []
    },
    {
      "metadata": {
        "id": "xqcTJRmSijH-",
        "colab_type": "code",
        "colab": {},
        "outputId": "3a26f608-868b-498d-b18d-bfae2b452d4e",
        "trusted": true,
        "_uuid": "0c7b520092d769c2716d1d151b85dda06c232ff0"
      },
      "cell_type": "code",
      "source": "list(images_test.keys())[:5]",
      "execution_count": null,
      "outputs": []
    },
    {
      "metadata": {
        "id": "yQUKxV_FijIC",
        "colab_type": "code",
        "colab": {},
        "outputId": "e6f2538b-3285-49ea-d6fd-7fbadc2bb975",
        "trusted": true,
        "_uuid": "d04c33f11e9eb483f70d9159145dd30797511a88"
      },
      "cell_type": "code",
      "source": "X_train = []\nY_train = []\nfor key, value in images_train.items():\n    X_train.append(value)\n    if key[:4] == \"bgr_\":\n        Y_train.append(0)\n    else:\n        Y_train.append(1)\n\nID_test = []\nX_test = []\nfor key, value in images_test.items():\n    ID_test.append(int(key))\n    X_test.append(value)\n  \n        \nX_train = np.array(X_train)\nY_train = np.array(Y_train)\nX_test = np.array(X_test)\n\nprint(X_train.shape, Y_train.shape)\nprint(X_test.shape)",
      "execution_count": null,
      "outputs": []
    },
    {
      "metadata": {
        "id": "wy3IKx26ijIG",
        "colab_type": "code",
        "colab": {},
        "outputId": "f571f85d-1fe6-4a33-bcf1-ca1574aa3709",
        "trusted": true,
        "_uuid": "04ca1c2a777c67d54555319ff2cca83b69f82344"
      },
      "cell_type": "code",
      "source": "scaler = StandardScaler()\nX_scaled_train = scaler.fit_transform(X_train)\nX_scaled_test = scaler.transform(X_test)",
      "execution_count": null,
      "outputs": []
    },
    {
      "metadata": {
        "id": "eboQW2n1ijIK",
        "colab_type": "code",
        "colab": {},
        "outputId": "fa8fbf5d-5d5c-4463-aa3c-909d6698b9b0",
        "trusted": true,
        "_uuid": "6ee0b8f8e1568a9391ab6a2b8ae726332a7182fc"
      },
      "cell_type": "code",
      "source": "#sn_mse = SigmoidNeuron()\n#sn_mse.fit(X_scaled_train, Y_train, epochs=500, learning_rate=0.09, loss_fn=\"mse\", display_loss=True)",
      "execution_count": null,
      "outputs": []
    },
    {
      "metadata": {
        "id": "547SFsgsijIO",
        "colab_type": "code",
        "colab": {},
        "outputId": "e6595d5e-a9e0-4b5f-f7b5-a56297bc69c0",
        "trusted": true,
        "_uuid": "6c3accdc8326086dc6d3770c0572445e588556d6"
      },
      "cell_type": "code",
      "source": "sn_ce = SigmoidNeuron()\n#sn_ce.fit(X_scaled_train, Y_train, epochs=100, learning_rate=0.005, loss_fn=\"ce\", display_loss=True)",
      "execution_count": null,
      "outputs": []
    },
    {
      "metadata": {
        "id": "_a3_-9zYijIS",
        "colab_type": "code",
        "colab": {},
        "trusted": true,
        "_uuid": "75088f580b2771eb668accb43d1d3d9eb6d53137"
      },
      "cell_type": "code",
      "source": "def print_accuracy(sn):\n    Y_pred_train = sn.predict(X_scaled_train)\n    Y_pred_binarised_train = (Y_pred_train >= 0.5).astype(\"int\").ravel()\n    accuracy_train = accuracy_score(Y_pred_binarised_train, Y_train)\n    print(\"Train Accuracy : \", accuracy_train)\n    print(\"-\"*50)\n    return accuracy_train",
      "execution_count": null,
      "outputs": []
    },
    {
      "metadata": {
        "id": "lqe2g9PLijIW",
        "colab_type": "code",
        "colab": {},
        "outputId": "0ce4b45c-78f5-4323-829b-db3e12c3f268",
        "trusted": true,
        "_uuid": "07ac466630a03903b98bc46cf0dc95b12b7ad3cf"
      },
      "cell_type": "code",
      "source": "#print_accuracy(sn_mse)\n#print_accuracy(sn_ce)",
      "execution_count": null,
      "outputs": []
    },
    {
      "metadata": {
        "trusted": true,
        "_uuid": "4e14351a373e7c8f5c406f5ca76a48883c62f9e2"
      },
      "cell_type": "code",
      "source": "#max_acc_mse = 0.00\nmax_acc_ce = 0.00\n#lr_mse = 0.00\nlr_ce = 0.00\ni = 0.005\n\nwhile(i<=0.09):   \n    '''sn_mse.fit(X_scaled_train, Y_train, epochs=100, learning_rate=i, loss_fn=\"mse\", display_loss=True)\n    temp = print_accuracy(sn_mse)\n    if temp>max_acc_mse:\n        max_acc_mse = temp\n        lr_mse = i'''\n    sn_ce.fit(X_scaled_train, Y_train, epochs=100, learning_rate=i, loss_fn=\"ce\", display_loss=True)\n    temp1 = print_accuracy(sn_ce)\n    if temp1>max_acc_ce:\n        max_acc_ce = temp1\n        lr_ce = i\n    i += 0.005\n    \n#print(\"MSE: \", lr_mse, max_acc_mse)\nprint(\"CE: \", lr_ce, max_acc_ce)",
      "execution_count": null,
      "outputs": []
    },
    {
      "metadata": {
        "trusted": true,
        "_uuid": "88d10dde6f198c812c9967bcaefd9ec4d9aabb4a"
      },
      "cell_type": "code",
      "source": "sn_ce = SigmoidNeuron()\nsn_ce.fit(X_scaled_train, Y_train, epochs=100, learning_rate=lr_ce, loss_fn=\"ce\", display_loss=True)",
      "execution_count": null,
      "outputs": []
    },
    {
      "metadata": {
        "trusted": true,
        "_uuid": "1b25304695d6753791bbcfc356b4aa335b6db501"
      },
      "cell_type": "code",
      "source": "Y_pred_test = (sn_ce.predict(X_scaled_test))\n",
      "execution_count": null,
      "outputs": []
    },
    {
      "metadata": {
        "trusted": true,
        "_uuid": "605bb72ba6c608ae9463ad735d2b4cc0a1ceb1c4"
      },
      "cell_type": "code",
      "source": "scaled_threshold = 0.5\nY_pred_binarised_test = (Y_pred_test > scaled_threshold).ravel()*1",
      "execution_count": null,
      "outputs": []
    },
    {
      "metadata": {
        "trusted": true,
        "_uuid": "9dbf26cc5f53bb8f3f050b0974926798bde17595"
      },
      "cell_type": "code",
      "source": "Y_pred_binarised_test",
      "execution_count": null,
      "outputs": []
    },
    {
      "metadata": {
        "trusted": true,
        "_uuid": "a0930c8339f229ce09e3767483141c28f0d01ad6"
      },
      "cell_type": "code",
      "source": "type(ID_test)",
      "execution_count": null,
      "outputs": []
    },
    {
      "metadata": {
        "trusted": true,
        "_uuid": "3c8a9a8972d31d430f9d7b02b02def14e38464c9"
      },
      "cell_type": "code",
      "source": "#ID_test = np.array(ID_test)",
      "execution_count": null,
      "outputs": []
    },
    {
      "metadata": {
        "trusted": true,
        "_uuid": "140817e16eced26c5c23600a0150118fcb051f7f"
      },
      "cell_type": "code",
      "source": "#ID_test",
      "execution_count": null,
      "outputs": []
    },
    {
      "metadata": {
        "trusted": true,
        "_uuid": "cb84633cd840c6d29d4d52654258fdafcd88be11"
      },
      "cell_type": "code",
      "source": "#Y_pred_binarised_test = pd.DataFrame(Y_pred_binarised_test)",
      "execution_count": null,
      "outputs": []
    },
    {
      "metadata": {
        "trusted": true,
        "_uuid": "ce04f86b9cd41679c3a46bf58c1c30a640a74e4b"
      },
      "cell_type": "code",
      "source": "#ID_test = pd.DataFrame(ID_test)",
      "execution_count": null,
      "outputs": []
    },
    {
      "metadata": {
        "trusted": true,
        "_uuid": "ad0c9358b98913f690a94e87ada8cd9fc4815fad"
      },
      "cell_type": "code",
      "source": "#D_test[0]",
      "execution_count": null,
      "outputs": []
    },
    {
      "metadata": {
        "trusted": true,
        "_uuid": "16f3a5c11d36c95a11c65108b83895714ae3ea67"
      },
      "cell_type": "code",
      "source": "#Y_pred_binarised_test[0]",
      "execution_count": null,
      "outputs": []
    },
    {
      "metadata": {
        "id": "8IMv7SCUijIa",
        "colab_type": "text",
        "_uuid": "ec138656647dc7dadddd97cb55df66a78cd7ead7"
      },
      "cell_type": "markdown",
      "source": "## Sample Submission"
    },
    {
      "metadata": {
        "id": "4_pBsgYlijIb",
        "colab_type": "code",
        "colab": {},
        "trusted": true,
        "_uuid": "eefe38cd3110d2a01af62d367295fe9a9969b349"
      },
      "cell_type": "code",
      "source": "Y_pred_test = sn_ce.predict(X_scaled_test)\nY_pred_binarised_test = (Y_pred_test >= 0.5).astype(\"int\").ravel()\n\n#submission = {}\n#submission['ImageId'] = ID_test[0]\n#submission['Class'] = Y_pred_binarised_test\n\nsubmission = pd.DataFrame({'ImageId':ID_test, 'Class':Y_pred_binarised_test})\n\nsubmission = pd.DataFrame(submission)\nsubmission = submission[['ImageId', 'Class']]\nsubmission = submission.sort_values('ImageId')\nsubmission.to_csv(\"submisision.csv\", index=False)",
      "execution_count": null,
      "outputs": []
    },
    {
      "metadata": {
        "trusted": true,
        "_uuid": "fc46ced2c0841c9a60445031ed376bbdfe8e033e"
      },
      "cell_type": "code",
      "source": "submission",
      "execution_count": null,
      "outputs": []
    },
    {
      "metadata": {
        "trusted": true,
        "_uuid": "9f8db5dd385008fac8ae590455e5ba7ba22ed9dc"
      },
      "cell_type": "code",
      "source": "imgid = submission['ImageId']",
      "execution_count": null,
      "outputs": []
    },
    {
      "metadata": {
        "trusted": true,
        "_uuid": "f3d57b55b22414e2d285859ce1432343d7e86b1d"
      },
      "cell_type": "code",
      "source": "clas = submission['Class']",
      "execution_count": null,
      "outputs": []
    },
    {
      "metadata": {
        "trusted": true,
        "_uuid": "ecb28221b2e65e51fcf6826208d336b6fde4069f"
      },
      "cell_type": "code",
      "source": "#submission.loc[submission['ImageId'] == 150, 'Class'].item()",
      "execution_count": null,
      "outputs": []
    },
    {
      "metadata": {
        "trusted": true,
        "_uuid": "e123ee9476d208d0376838e510633ed3f608d9c5"
      },
      "cell_type": "code",
      "source": "",
      "execution_count": null,
      "outputs": []
    }
  ],
  "metadata": {
    "colab": {
      "name": "Text - Non Text Classification.ipynb",
      "version": "0.3.2",
      "provenance": [],
      "collapsed_sections": []
    },
    "kernelspec": {
      "display_name": "Python 3",
      "language": "python",
      "name": "python3"
    },
    "language_info": {
      "name": "python",
      "version": "3.6.6",
      "mimetype": "text/x-python",
      "codemirror_mode": {
        "name": "ipython",
        "version": 3
      },
      "pygments_lexer": "ipython3",
      "nbconvert_exporter": "python",
      "file_extension": ".py"
    }
  },
  "nbformat": 4,
  "nbformat_minor": 1
}